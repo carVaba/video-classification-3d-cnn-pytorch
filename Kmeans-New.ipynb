{
 "cells": [
  {
   "cell_type": "code",
   "execution_count": 1,
   "metadata": {
    "colab": {},
    "colab_type": "code",
    "id": "AB4l9a2_ks0U"
   },
   "outputs": [],
   "source": [
    "import os\n",
    "import json\n",
    "import pandas as pd \n",
    "import numpy as np\n",
    "from sklearn.cluster import KMeans\n",
    "import tensorflow as tf \n",
    "import matplotlib.pyplot as plt\n",
    "%matplotlib inline "
   ]
  },
  {
   "cell_type": "code",
   "execution_count": 36,
   "metadata": {},
   "outputs": [],
   "source": [
    "import os\n",
    "import subprocess"
   ]
  },
  {
   "cell_type": "code",
   "execution_count": 92,
   "metadata": {},
   "outputs": [],
   "source": [
    "VIDEO_ROOT = \"./video_subir_drive\""
   ]
  },
  {
   "cell_type": "code",
   "execution_count": 2,
   "metadata": {
    "colab": {},
    "colab_type": "code",
    "id": "nfLa24Jhr_XY"
   },
   "outputs": [],
   "source": [
    "df = pd.read_json(\"salida_.json\")"
   ]
  },
  {
   "cell_type": "code",
   "execution_count": 93,
   "metadata": {},
   "outputs": [],
   "source": [
    "def listdir_nohidden(path):\n",
    "    for f in os.listdir(path):\n",
    "        if not f.startswith('.'):\n",
    "            yield f"
   ]
  },
  {
   "cell_type": "code",
   "execution_count": 140,
   "metadata": {},
   "outputs": [],
   "source": [
    "for index , row in df.iterrows():\n",
    "    path_video = os.path.join(VIDEO_ROOT , row[\"video\"])\n",
    "    segments = list(map(lambda x : x['segment'], row['clips']))\n",
    "    list_files = sorted(listdir_nohidden(path_video))\n",
    "    for i , seg_range in enumerate(segments):\n",
    "        new_folder = os.path.join(path_video,f\"{i+1}\")\n",
    "        if os.path.exists(new_folder):\n",
    "            subprocess.call(f\"rm -rf {new_folder}\", shell=True)\n",
    "        filesToCopy_list = list_files[seg_range[0]-1:seg_range[1]]\n",
    "        filesToCopy_str = \" \".join([ path_video+'/'+name for name in filesToCopy_list])\n",
    "        os.mkdir(new_folder)\n",
    "        subprocess.call(f\"cp {filesToCopy_str} {new_folder}\",shell=True)"
   ]
  },
  {
   "cell_type": "code",
   "execution_count": 123,
   "metadata": {},
   "outputs": [],
   "source": [
    "#with open(\"./resultado_chica/_centroides.txt\" , \"r\") as file:\n",
    "import csv\n",
    "with open(\"./resultado_chica/_centroides.txt\") as csv_file:\n",
    "    csv_reader = csv.reader(csv_file, delimiter=',')\n",
    "    centroides = []\n",
    "    for line in csv_reader:\n",
    "        centroides.append(line)"
   ]
  },
  {
   "cell_type": "code",
   "execution_count": 141,
   "metadata": {},
   "outputs": [
    {
     "name": "stdout",
     "output_type": "stream",
     "text": [
      "test2_cam1_134.MP4\n",
      "test2_cam1_139.MP4\n",
      "test2_cam1_14.MP4\n",
      "test2_cam1_6.MP4\n",
      "test2_cam1_76.MP4\n",
      "test2_cam1_78.MP4\n",
      "test2_cam1_86.MP4\n",
      "test2_cam2_114.MP4\n",
      "test2_cam2_142.MP4\n",
      "test2_cam2_168.MP4\n",
      "test2_cam2_212.MP4\n",
      "test2_cam2_220.MP4\n",
      "test2_cam2_24.MP4\n",
      "test2_cam2_39.MP4\n"
     ]
    }
   ],
   "source": [
    "import ffmpeg\n",
    "for name , centroid in list(zip(df.video,centroides)):\n",
    "    os.mkdir(f\"{VIDEO_ROOT}/{name}/clustering\")\n",
    "    for centroides_ in centroid:\n",
    "        try:\n",
    "            centroides_ = centroides_.strip()\n",
    "            input_name = f'{VIDEO_ROOT}/{name}/{centroides_}/*.jpg'\n",
    "            output_name = f'{VIDEO_ROOT}/{name}/{centroides_}/{centroides_}.mp4'\n",
    "            (\n",
    "                ffmpeg\n",
    "                .input(input_name, pattern_type='glob')\n",
    "                .output(output_name)\n",
    "                .run()\n",
    "            )\n",
    "            subprocess.call(f\"cp {output_name} {VIDEO_ROOT}/{name}/clustering/\" ,shell=True)\n",
    "        except:\n",
    "            print(name)\n",
    "            continue"
   ]
  },
  {
   "cell_type": "code",
   "execution_count": 147,
   "metadata": {},
   "outputs": [],
   "source": [
    "os.mkdir(\"salida_fina\")\n",
    "for name in df.video:\n",
    "  \n",
    "        os.mkdir(f\"salida_fina/{name}\")\n",
    "        subprocess.call(f\"cp -av {VIDEO_ROOT}/{name}/clustering ./salida_fina/{name}\",shell=True)\n",
    "   "
   ]
  },
  {
   "cell_type": "code",
   "execution_count": 4,
   "metadata": {
    "colab": {},
    "colab_type": "code",
    "id": "HwRLEDoNlLIR"
   },
   "outputs": [],
   "source": [
    "\n",
    "def clustering(dic_segment):\n",
    "    list_fetures = list()\n",
    "    for i in dic_segment:\n",
    "        list_fetures.append(np.array(i[\"features\"]))\n",
    "    return np.array(list_fetures)"
   ]
  },
  {
   "cell_type": "code",
   "execution_count": 5,
   "metadata": {
    "colab": {},
    "colab_type": "code",
    "id": "tgIEbblmljqB"
   },
   "outputs": [],
   "source": [
    "clustering_ = KMeans(n_clusters=3)"
   ]
  },
  {
   "cell_type": "code",
   "execution_count": 6,
   "metadata": {
    "colab": {},
    "colab_type": "code",
    "id": "6hpyNo6d2u-I"
   },
   "outputs": [],
   "source": [
    "list_features = list()\n",
    "for value in df.clips.apply(clustering):\n",
    "    list_features.extend(value)"
   ]
  },
  {
   "cell_type": "code",
   "execution_count": 7,
   "metadata": {
    "colab": {},
    "colab_type": "code",
    "id": "15dgNlQ5ll-v"
   },
   "outputs": [],
   "source": [
    "solution = clustering_.fit(np.array(list_features))"
   ]
  },
  {
   "cell_type": "code",
   "execution_count": 8,
   "metadata": {
    "colab": {
     "base_uri": "https://localhost:8080/",
     "height": 85
    },
    "colab_type": "code",
    "executionInfo": {
     "elapsed": 388,
     "status": "ok",
     "timestamp": 1571168190539,
     "user": {
      "displayName": "Carlos Alfredo Baez Rojas",
      "photoUrl": "https://lh3.googleusercontent.com/a-/AAuE7mA-JfvZRKWw1fIVuOe4-tzkSbCAWHLa6JFq3-4j_w=s64",
      "userId": "08968129023457163428"
     },
     "user_tz": 300
    },
    "id": "xBNVSXDDmxDl",
    "outputId": "01960f3f-c5a5-4574-fc84-af3832182ac2"
   },
   "outputs": [
    {
     "data": {
      "text/plain": [
       "0    15665\n",
       "1    12083\n",
       "2     6100\n",
       "dtype: int64"
      ]
     },
     "execution_count": 8,
     "metadata": {},
     "output_type": "execute_result"
    }
   ],
   "source": [
    "pd.Series(solution.labels_).value_counts()"
   ]
  },
  {
   "cell_type": "code",
   "execution_count": 9,
   "metadata": {
    "colab": {
     "base_uri": "https://localhost:8080/",
     "height": 319
    },
    "colab_type": "code",
    "executionInfo": {
     "elapsed": 5997,
     "status": "ok",
     "timestamp": 1571168199336,
     "user": {
      "displayName": "Carlos Alfredo Baez Rojas",
      "photoUrl": "https://lh3.googleusercontent.com/a-/AAuE7mA-JfvZRKWw1fIVuOe4-tzkSbCAWHLa6JFq3-4j_w=s64",
      "userId": "08968129023457163428"
     },
     "user_tz": 300
    },
    "id": "524_SPNPnEp-",
    "outputId": "bfb43561-9e19-4b30-a96e-0e03153b7ebd"
   },
   "outputs": [
    {
     "data": {
      "text/plain": [
       "<matplotlib.axes._subplots.AxesSubplot at 0x7fce80d87518>"
      ]
     },
     "execution_count": 9,
     "metadata": {},
     "output_type": "execute_result"
    },
    {
     "data": {
      "image/png": "[encoded data removed]",
      "text/plain": [
       "<Figure size 432x288 with 1 Axes>"
      ]
     },
     "metadata": {
      "needs_background": "light"
     },
     "output_type": "display_data"
    }
   ],
   "source": [
    "dict_valores = { \"valores1\" : [0] , \"valores2\" : [0] , \"valores0\" : [0]}\n",
    "for value in df.clips.apply(clustering):\n",
    "    try:\n",
    "        for values_ in KMeans(n_clusters=3).fit(value).labels_:\n",
    "            if values_ == 1 :\n",
    "                dict_valores[\"valores1\"][0] += 1\n",
    "            elif values_ == 2:\n",
    "                dict_valores[\"valores2\"][0] += 1\n",
    "            else :\n",
    "                dict_valores[\"valores0\"][0] += 1 \n",
    "    except :\n",
    "        continue\n",
    "pd.DataFrame(dict_valores).transpose().plot.bar()"
   ]
  },
  {
   "cell_type": "code",
   "execution_count": 29,
   "metadata": {
    "colab": {
     "base_uri": "https://localhost:8080/",
     "height": 34
    },
    "colab_type": "code",
    "executionInfo": {
     "elapsed": 386,
     "status": "ok",
     "timestamp": 1571168217644,
     "user": {
      "displayName": "Carlos Alfredo Baez Rojas",
      "photoUrl": "https://lh3.googleusercontent.com/a-/AAuE7mA-JfvZRKWw1fIVuOe4-tzkSbCAWHLa6JFq3-4j_w=s64",
      "userId": "08968129023457163428"
     },
     "user_tz": 300
    },
    "id": "dbY6HKp4ca7Q",
    "outputId": "1b306ba7-2b4e-4840-b9ae-cf400b8457b9"
   },
   "outputs": [],
   "source": [
    "\n",
    "\n",
    "def draw_cycle_using(name_file, x, y, scale = 2):\n",
    "    fig = plt.figure()\n",
    "    axes = fig.add_subplot(111)\n",
    "    # my random data\n",
    "    # spacing of arrows\n",
    "    aspace = .1 # good value for scale of 1\n",
    "    aspace *= scale\n",
    "    if isinstance(x , list):\n",
    "        x = np.array(x)\n",
    "    if isinstance(y , list):\n",
    "        y = np.array(y)\n",
    "\n",
    "    # r is the distance spanned between pairs of points\n",
    "    r = [0]\n",
    "    for i in range(1,len(x)):\n",
    "        dx = x[i]-x[i-1]\n",
    "        dy = y[i]-y[i-1]\n",
    "        r.append(np.sqrt(dx*dx+dy*dy))\n",
    "    r = np.array(r)\n",
    "\n",
    "    # rtot is a cumulative sum of r, it's used to save time\n",
    "    rtot = []\n",
    "    for i in range(len(r)):\n",
    "        rtot.append(r[0:i].sum())\n",
    "    rtot.append(r.sum())\n",
    "\n",
    "    arrowData = [] # will hold tuples of x,y,theta for each arrow\n",
    "    arrowPos = 0 # current point on walk along data\n",
    "    rcount = 1 \n",
    "    while arrowPos < r.sum():\n",
    "        x1,x2 = x[rcount-1],x[rcount]\n",
    "        y1,y2 = y[rcount-1],y[rcount]\n",
    "        da = arrowPos-rtot[rcount] \n",
    "        theta = np.arctan2((x2-x1),(y2-y1))\n",
    "        ax = np.sin(theta)*da+x1\n",
    "        ay = np.cos(theta)*da+y1\n",
    "        arrowData.append((ax,ay,theta))\n",
    "        arrowPos+=aspace\n",
    "        while arrowPos > rtot[rcount+1]: \n",
    "            rcount+=1\n",
    "            if arrowPos > rtot[-1]:\n",
    "                break\n",
    "\n",
    "    # could be done in above block if you want\n",
    "    for ax,ay,theta in arrowData:\n",
    "        # use aspace as a guide for size and length of things\n",
    "        # scaling factors were chosen by experimenting a bit\n",
    "        axes.arrow(ax,ay,\n",
    "                np.sin(theta)*aspace/10,np.cos(theta)*aspace/10, \n",
    "                head_width=aspace/8)\n",
    "    if y[0] == 0 :\n",
    "        axes.plot(x,y,'b')\n",
    "    elif y[0] == 1 :\n",
    "        axes.plot(x,y,'g')\n",
    "    else:\n",
    "        axes.plot(x,y,'r')\n",
    "    axes.set_xlim(0,x.max()*1.1)\n",
    "    axes.set_ylim(0,2.5)\n",
    "    plt.savefig(f\"figuras/{name_file[:-4]}.png\")\n",
    "    plt.clf()"
   ]
  },
  {
   "cell_type": "code",
   "execution_count": 24,
   "metadata": {},
   "outputs": [],
   "source": [
    "with open(\"entrada\" ,\"r\") as file:\n",
    "    video_names = file.read().split('\\n')"
   ]
  },
  {
   "cell_type": "code",
   "execution_count": 98,
   "metadata": {
    "colab": {
     "base_uri": "https://localhost:8080/",
     "height": 1000
    },
    "colab_type": "code",
    "executionInfo": {
     "elapsed": 5450,
     "status": "ok",
     "timestamp": 1571168750194,
     "user": {
      "displayName": "Carlos Alfredo Baez Rojas",
      "photoUrl": "https://lh3.googleusercontent.com/a-/AAuE7mA-JfvZRKWw1fIVuOe4-tzkSbCAWHLa6JFq3-4j_w=s64",
      "userId": "08968129023457163428"
     },
     "user_tz": 300
    },
    "id": "Y-w9JWuEt90I",
    "outputId": "826a3e31-0431-48ae-bbc6-9f19d175fb5c"
   },
   "outputs": [],
   "source": [
    "with open(\"_resultado_chica_centroids_test.txt\" , \"a\") as file:\n",
    "    for name ,value_ in zip(video_names, df.clips.apply(clustering)):\n",
    "        try:\n",
    "            model = KMeans(n_clusters= 3).fit(value_)\n",
    "            indexs = get_index(model, value_)\n",
    "            #draw_cycle_using(name,list(range(0 , len(x))) ,x )\n",
    "            #min_dist = np.min(cdist(.as_matrix(), model.cluster_centers_, 'euclidean'), axis=1)\n",
    "\n",
    "            file.writelines(f\"Video {name} centroides = {indexs} \\n\")\n",
    "            #file.writelines\n",
    "            #print(x)\n",
    "        except:\n",
    "            file.writelines(f\"Video en indice {name} es muy corto \\n\")\n",
    "            \n",
    "            "
   ]
  },
  {
   "cell_type": "code",
   "execution_count": 44,
   "metadata": {},
   "outputs": [],
   "source": [
    "model = KMeans(n_clusters= 3)\n",
    "model_values = model.fit_predict(df.clips.apply(clustering)[0])\n",
    "            "
   ]
  },
  {
   "cell_type": "code",
   "execution_count": 45,
   "metadata": {},
   "outputs": [],
   "source": [
    "min_dist = np.min(cdist(df.clips.apply(clustering)[0], model.cluster_centers_, 'euclidean'), axis=1)"
   ]
  },
  {
   "cell_type": "code",
   "execution_count": 46,
   "metadata": {},
   "outputs": [],
   "source": [
    "from scipy.spatial.distance import cdist\n"
   ]
  },
  {
   "cell_type": "code",
   "execution_count": 97,
   "metadata": {},
   "outputs": [],
   "source": [
    "def get_index(model , clips):\n",
    "    centroides_index = []\n",
    "    for cluster_value in model.cluster_centers_:\n",
    "        pos = 0\n",
    "        min_ = 9999\n",
    "        for i, value in enumerate(clips):\n",
    "            value_ = np.sqrt(np.sum((value - cluster_value) ** 2))\n",
    "            if value_ < min_ :\n",
    "                pos = i\n",
    "                min_ = value_\n",
    "        centroides_index.append(pos)\n",
    "    return sorted(centroides_index)\n"
   ]
  },
  {
   "cell_type": "code",
   "execution_count": 79,
   "metadata": {},
   "outputs": [
    {
     "data": {
      "text/plain": [
       "61"
      ]
     },
     "execution_count": 79,
     "metadata": {},
     "output_type": "execute_result"
    }
   ],
   "source": [
    "i"
   ]
  },
  {
   "cell_type": "code",
   "execution_count": 69,
   "metadata": {},
   "outputs": [
    {
     "name": "stdout",
     "output_type": "stream",
     "text": [
      "5.33500526382956\n"
     ]
    }
   ],
   "source": [
    "for i, value in enumerate(df.clips.apply(clustering)[0]):\n",
    "    for cluster_value in model.cluster_centers_:\n",
    "        print(np.sqrt(np.sum((value - cluster_value) ** 2)))\n",
    "        break\n",
    "    break"
   ]
  },
  {
   "cell_type": "code",
   "execution_count": null,
   "metadata": {},
   "outputs": [],
   "source": []
  }
 ],
 "metadata": {
  "accelerator": "GPU",
  "colab": {
   "collapsed_sections": [],
   "name": "Kmeans.ipynb",
   "provenance": []
  },
  "kernelspec": {
   "display_name": "Python 3",
   "language": "python",
   "name": "python3"
  },
  "language_info": {
   "codemirror_mode": {
    "name": "ipython",
    "version": 3
   },
   "file_extension": ".py",
   "mimetype": "text/x-python",
   "name": "python",
   "nbconvert_exporter": "python",
   "pygments_lexer": "ipython3",
   "version": "3.7.3"
  }
 },
 "nbformat": 4,
 "nbformat_minor": 4
}
